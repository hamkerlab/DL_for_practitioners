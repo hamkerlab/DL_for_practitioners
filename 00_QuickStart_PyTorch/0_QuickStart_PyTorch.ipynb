{
 "cells": [
  {
   "cell_type": "markdown",
   "metadata": {},
   "source": [
    "# Tutorial 0. How to get started with PyTorch\n",
    "\n",
    "For this course, we will work with PyTorch as a Python library for creating neural networks. You should be familiar with Python, but in case you need a refresher use the [w3school Python course](https://www.w3schools.com/python/)."
   ]
  },
  {
   "cell_type": "markdown",
   "metadata": {},
   "source": [
    "## Development Environment\n",
    "\n",
    "This course will use Jupyter notebooks to guide you through the content and provide examples and exercises. Jupyter notebooks are generally recommended for machine learning because of their interactive nature. The training or loading of pre-trained models can take a while and a cell of a Jupyter notebook can hold this information while being able to alter and execute the code of different cells. For further information, please look at this [Jupyter notebook introduction](https://realpython.com/jupyter-notebook-introduction/).\n",
    "\n",
    "To work with Jupyter notebooks, you can either A) use a local installation or B) work in a browser-based platform. The former enables you to use your own hardware and you are more independent from external software. The latter provides access to their computing power. We will describe both but we recommend Google Colab, if you do not have a GPU.\n",
    "\n",
    "### A) Local installation\n",
    "\n",
    "Depending on your operating system and your hardware (especially your GPU), the installation process for local development differs.\n",
    "\n",
    "We recommend using a virtual environment as best-practice like [Miniconda](https://www.anaconda.com/docs/getting-started/miniconda/install). A virtual environment isolates dependencies for different Python projects, preventing conflicts by creating a self-contained directory with its own Python interpreter and libraries. The created environment needs **Python>=3.9** to be used with PyTorch. Here, we use Python 3.11.\n",
    "\n",
    "For this course, we provided a .yml-file, which has every necessary package included. You can create and activate the environment with the following commands:\n",
    "```bash\n",
    "conda env create -f environment.yml\n",
    "conda activate micro\n",
    "```\n",
    "Micro is the name of the environment which is defined in the first lines of the .yml-fil.\n",
    "\n",
    "To use Jupyter notebooks locally, we recommend [Microsoft Visual Studio Code](https://code.visualstudio.com/download) with its [Jupyter](https://marketplace.visualstudio.com/items?itemName=ms-toolsai.jupyter) extension.\n",
    "\n",
    "### B) Browser-based coding platform - Google Colab\n",
    "\n",
    "Instead of coding locally, you can use Google Colab; especially, if you have no sufficient GPU. These are very similar to Jupyter notebooks due to its interactive coding possibilities (you can also open Jupyter notebooks). Many Python packages are already installed but you can add further packages via `!pip install`. The ! tells the interpreter to run a command line script.\n",
    "\n",
    "Follow this link to [Google Colab](https://colab.research.google.com/#) and sign in with your Google account. Open the Jupyter notebooks from this course via *Datei > Notebook hochladen*.\n"
   ]
  },
  {
   "cell_type": "markdown",
   "metadata": {},
   "source": [
    "## Quickstart PyTorch\n",
    "\n",
    "PyTorch is a Python library to create neural networks, load datasets which can be used for training them and use the final neural network for inference.\n",
    "If you are new to PyTorch, use the Quickstart from the official PyTorch Website:\n",
    "\n",
    "https://pytorch.org/tutorials/beginner/basics/quickstart_tutorial.html\n",
    "\n",
    "For the installation, you need to check your GPU and which CUDA version it uses. The method depends on your OS.\n",
    "\n",
    "**Windows** from https://www.devzery.com/post/cuda-version-check\n",
    "\n",
    "\"Checking CUDA Version Through the NVIDIA Control Panel\n",
    "\n",
    "If you're using a Windows system, you can also check the CUDA version through the NVIDIA Control Panel:\n",
    "\n",
    "1. Right-click on the Desktop and select NVIDIA Control Panel.\n",
    "\n",
    "2. Go to Help > System Information.\n",
    "\n",
    "3. In the Components tab, look for the CUDA entry. The version listed here is your installed CUDA version.\"\n",
    "\n",
    "**Linux**\n",
    "\n",
    "1. Open terminal\n",
    "\n",
    "2. Use `nvcc -V`\n",
    "\n",
    "Please follow the instructions from the official [PyTorch website](https://pytorch.org/get-started/locally/) within your activated environment to install the required packages for PyTorch.\n",
    "\n",
    "In the next tutorial, we will implement a basic deep neural network to classify handwritten digits and clothing items!"
   ]
  },
  {
   "cell_type": "markdown",
   "metadata": {},
   "source": [
    "## Additional packages\n",
    "\n",
    "```bash\n",
    "pip install matplotlib tqdm pandas ipywidgets\n",
    "```"
   ]
  }
 ],
 "metadata": {
  "language_info": {
   "name": "python"
  }
 },
 "nbformat": 4,
 "nbformat_minor": 2
}
