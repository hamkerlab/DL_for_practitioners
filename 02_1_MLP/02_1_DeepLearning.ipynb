{
 "cells": [
  {
   "cell_type": "markdown",
   "id": "5a1f43a2",
   "metadata": {},
   "source": [
    "# Tutorial 2.1: How to create a simple deep neural network with PyTorch\n",
    "\n",
    "Author: [Maren Gröne](mailto:maren.groene@s2016.tu-chemnitz.de)\n",
    "\n",
    "In this first Tutorial we will cover the basic steps and elements to create a deep neural network in PyTorch.\n",
    "\n",
    "## Preperations\n",
    "Before we get started, make sure that PyTorch, Torchvision, and Torchaudio are properly installed. If not, follow the previous tutorial."
   ]
  },
  {
   "cell_type": "markdown",
   "id": "a40a9eaa",
   "metadata": {},
   "source": [
    "### Checking the available devices\n",
    "\n",
    "To optimize the processing graph of the neural network, PyTorch uses the \"device\" variable to define if the calculation of the neural network should be performed on a CUDA-device (a GPU) or the CPU. \n",
    "Is it recommend to use the GPU, as the training procedure will be calculated much faster than on the CPU.\n",
    "\n",
    "Therefore, after importing the main package torch, we check with `torch.cuda.is_available()` if a CUDA capable GPU is available. \n",
    "If not, we will run the network on the CPU, otherwise on the GPU."
   ]
  },
  {
   "cell_type": "code",
   "execution_count": null,
   "id": "5ebb08d1",
   "metadata": {},
   "outputs": [],
   "source": [
    "import torch\n",
    "\n",
    "is_cuda = torch.cuda.is_available()\n",
    "if is_cuda:\n",
    "    device = torch.device(\"cuda\")\n",
    "else:\n",
    "    device = torch.device(\"cpu\")\n",
    "print('Device is ',device)"
   ]
  },
  {
   "cell_type": "markdown",
   "id": "4eb206a5",
   "metadata": {},
   "source": [
    "Hint: If you are using Google Colab, you can change the device via *Runtime > Change runtime type*"
   ]
  },
  {
   "cell_type": "markdown",
   "id": "7007e304",
   "metadata": {},
   "source": [
    "### Import training and test set\n",
    "We use the Torchvision package, as it contains many common datasets, to load the training and test set for the MNIST dataset.\n",
    "It contains images from handwritten digits with a resolution of $28 \\times 28$ pixels.\n",
    "\n",
    "With help of the `torchvision.transforms` sub package, we create a transform-object which we can use to normalize the pixel-value. Why data needs to be normailzed or be preprocessed otherwise, will be covered in a future tutorial.\n",
    "\n",
    "Additionally, we will create two `DataLoader`objects, one for the training and one for the test set, which we will use to load the datasets batchwise. Splitting the whole dataset in smaller batches often results in faster training and a stable convergence.\n",
    "\n",
    "`trainset.classes` gives us the labels of the classes, but we can define them as we like. It is technically irrelevant for the training. The output of the network will be matched with this list for human readabilty."
   ]
  },
  {
   "cell_type": "code",
   "execution_count": null,
   "id": "c12e1946",
   "metadata": {},
   "outputs": [],
   "source": [
    "import torchvision\n",
    "import torchvision.transforms as transforms\n",
    "\n",
    "transform = transforms.Compose(\n",
    "    [transforms.ToTensor(),\n",
    "     transforms.Normalize((0.5),(0.5))])\n",
    "batch_size=4\n",
    "trainset = torchvision.datasets.MNIST(root='../Dataset/', train=True, download=True, transform=transform)\n",
    "trainloader = torch.utils.data.DataLoader(trainset, batch_size=batch_size, shuffle=True, num_workers=2)\n",
    "\n",
    "testset = torchvision.datasets.MNIST(root='../Dataset/', train=False, download=True, transform=transform)\n",
    "testloader = torch.utils.data.DataLoader(testset, batch_size=batch_size, shuffle=False, num_workers=2)\n",
    "\n",
    "# list of class labels\n",
    "classes = trainset.classes\n",
    "print(f'Classes: {classes}')\n",
    "# number of elements\n",
    "numTrain = len(trainset)\n",
    "numTest = len(testset)\n",
    "print(f'Trainset: {numTrain} elements, Testset: {numTest} elements')"
   ]
  },
  {
   "cell_type": "markdown",
   "id": "e25a3898",
   "metadata": {},
   "source": [
    "### Plot some sample images\n",
    "\n",
    "We use the Matplotlib library to show the first four samples from the MNIST training set."
   ]
  },
  {
   "cell_type": "code",
   "execution_count": null,
   "id": "2ffe4355",
   "metadata": {},
   "outputs": [],
   "source": [
    "import matplotlib.pyplot as plt\n",
    "\n",
    "def imshow(imges):\n",
    "    plt.figure()\n",
    "    for i in range(4):\n",
    "        img = imges[i,0]\n",
    "        img = img / 2 + 0.5 #unnormalize\n",
    "        npimg = img.numpy()\n",
    "        plt.subplot(1,4,i+1)\n",
    "        plt.imshow(npimg, cmap='gray')\n",
    "    plt.show\n",
    "\n",
    "dataiter = iter(trainloader)\n",
    "images, labels = next(dataiter)\n",
    "imshow(images)\n",
    "\n",
    "print('Classes are: ')\n",
    "print(' '.join(f'{classes[labels[j]]:5s}' for j in range(batch_size)))"
   ]
  },
  {
   "cell_type": "markdown",
   "id": "2fdf6791",
   "metadata": {},
   "source": [
    "## Create the deep neural network\n",
    "\n",
    "### The network class\n",
    "\n",
    "To define a neural network in PyTorch, we create a class object which inherits from the `torch.nn.Module`class.\n",
    "Inside of this class, we 1) create the layer objects which will build the structure of our network and then 2) define the feedforward processing path through the network. \n",
    "\n",
    "#### Define the network structure\n",
    "\n",
    "This is done in the `__init__`function.\n",
    "As many common layers are predefined in PyTorch already, we use the `torch.nn` sub package to access them. We want to create a network with one input layer, a hidden layer and an output layer. Each fully-connected layer has the number of inputs and the number of outputs as parameters.\n",
    "\n",
    "The first layer gets the MNIST-images as input which is why the number equals $28 \\times 28$. The output parameter can be freely chosen and expiremented with. It corresponds to the number of neurons in its layer and is a hyperparameter to be tuned.\n",
    "\n",
    "`self.fc1 = nn.Linear(28*28,120)`\n",
    "\n",
    "Then we add a second fully-connected layer which needs the number of outputs of the previous layer as its number of inputs. The output, again, is to be experimented with.\n",
    "\n",
    "`self.fc2 = nn.Linear(120,84)`\n",
    "\n",
    "We end with the classification head (also a fully-connected layer) with 10 output neurons which correspond to our 10 MNIST-labels (0-9):\n",
    "\n",
    "`self.fc3 = nn.Linear(84,10)`\n",
    "\n",
    "Please note, that here we only define, which layers we want to use in our network. The order of defining them is not important at the moment.\n",
    "\n",
    "#### Define the feedforward path\n",
    "\n",
    "Now that the structure is defined, we define the feedforward processing path through the network in the `forward(self, x)` function. \n",
    "Or to say it differently, we connect the single layers with each other by defining which layer's output becomes which layer's input.\n",
    "\n",
    "As `x` represents the input to our network, it is processed by the first fully connected layer. Additionally, we apply the ReLU function as activation function on the output of each layer except the output layer.\n",
    "\n",
    "`x = F.relu(self.fc1(x))`\n",
    "\n",
    "`x = F.relu(self.fc2(x))`\n",
    "\n",
    "Finally, we return the output of the classification head as the final output of our network:\n",
    "\n",
    "`x = self.fc3(x)`\n",
    "\n",
    "`return x`"
   ]
  },
  {
   "cell_type": "code",
   "execution_count": null,
   "id": "17d46bc2",
   "metadata": {},
   "outputs": [],
   "source": [
    "import torch.nn as nn\n",
    "import torch.nn.functional as F\n",
    "\n",
    "class Net(nn.Module):\n",
    "    def __init__(self):\n",
    "        super().__init__()\n",
    "        ## define the network structure with the layers\n",
    "        self.fc1   = nn.Linear(28*28, 120) # in_channels, out_channels\n",
    "        self.fc2   = nn.Linear(120,84) # in_channels, out_channels\n",
    "        self.fc3   = nn.Linear(84,10) # in_channels, out_channels\n",
    "\n",
    "        \n",
    "    def forward(self, x):\n",
    "        ## define the functionality of each layer/between the layers\n",
    "        x = F.relu(self.fc1(x))\n",
    "        x = F.relu(self.fc2(x))\n",
    "        x = self.fc3(x)\n",
    "        return x"
   ]
  },
  {
   "cell_type": "markdown",
   "id": "1575f972",
   "metadata": {},
   "source": [
    "#### Creating the network\n",
    "Now we can simply create a new network object and assign it to the device identified above."
   ]
  },
  {
   "cell_type": "code",
   "execution_count": null,
   "id": "5dc12351",
   "metadata": {},
   "outputs": [],
   "source": [
    "net = Net().to(device)"
   ]
  },
  {
   "cell_type": "markdown",
   "id": "84e36219",
   "metadata": {},
   "source": [
    "### Set up loss and optimizer\n",
    "We use the `CrossEntropyLoss`as loss-function on the error between the network output and the correct labels and use the simple\n",
    "Stochastic-Gradient-Descend (`SGD`) optimizer.\n",
    "Please note, that the optimizer needs the parameters of our network `net.parameters()` as input to define which need to be tuned.\n",
    "\n",
    "Further available loss functions and optimizers can be found on the [official PyTorch website](https://pytorch.org/docs/stable/nn.html)"
   ]
  },
  {
   "cell_type": "code",
   "execution_count": null,
   "id": "61ce6c74",
   "metadata": {},
   "outputs": [],
   "source": [
    "import torch.optim as optim\n",
    "\n",
    "criterion = nn.CrossEntropyLoss()\n",
    "optimizer = optim.SGD(net.parameters(), lr=0.001, momentum=0.9)"
   ]
  },
  {
   "cell_type": "markdown",
   "id": "86361c19",
   "metadata": {},
   "source": [
    "## Training the network\n",
    "To train the network, we need a double for-loop.\n",
    "The inner loop uses the trainloader object defined above to iterate over the batches of the training set. \n",
    "\n",
    "For each batch, we get the input data (the images) and the corresponding labels and assign them to the identified device due to performance reasons.\n",
    "    \n",
    "As we calculate the gradients of the weights for each batch independently, we set the gradients to zero:\n",
    "    \n",
    "`optimizer.zero_grad()`\n",
    "    \n",
    "Then we calculate the output of the network, depending on the inputs, calculating the loss and then propagating the error along the backward path automatically.\n",
    "    \n",
    "`outputs = net(inputs)`\n",
    "    \n",
    "`loss = criterion(outputs, labels)`\n",
    "    \n",
    "`loss.backward()`\n",
    "    \n",
    "We apply the gradients via the optimizer:\n",
    "    \n",
    "`optimizer.step()`\n",
    "    \n",
    "And printing out the loss from the current batch at the end.\n",
    "\n",
    "All this is repeated for 2 epochs (the outer loop).\n",
    "\n",
    "To pass the 28x28 image to the first layer of the neural network, we need to flatten the image to convert it from a 2D to a 1D-vector. "
   ]
  },
  {
   "cell_type": "code",
   "execution_count": null,
   "id": "7b726f46",
   "metadata": {},
   "outputs": [],
   "source": [
    "for epoch in range(2):\n",
    "    running_loss = 0.0\n",
    "    for i, data in enumerate(trainloader, 0):\n",
    "        # get the input data and labels\n",
    "        inputs, labels = data\n",
    "        inputs = inputs.flatten(start_dim=1)\n",
    "        inputs = inputs.to(device)\n",
    "        labels = labels.to(device)\n",
    "        # zero the parameter gradients\n",
    "        optimizer.zero_grad()\n",
    "\n",
    "        # forward + backward + optimize\n",
    "        outputs = net(inputs)\n",
    "        loss = criterion(outputs, labels)\n",
    "        loss.backward()\n",
    "        optimizer.step()\n",
    "\n",
    "        #print statistics\n",
    "        running_loss += loss.item()\n",
    "        if i % 2000 == 1999:\n",
    "            print(f'[{epoch +1}, {i + 1:5d}] loss: {running_loss / 2000:.3f}')\n",
    "            running_loss = 0.0\n",
    "\n",
    "print('Finished Training')"
   ]
  },
  {
   "cell_type": "markdown",
   "id": "79827af5",
   "metadata": {},
   "source": [
    "After training, we save the parameters of the trained network."
   ]
  },
  {
   "cell_type": "code",
   "execution_count": null,
   "id": "4f9dc62b",
   "metadata": {},
   "outputs": [],
   "source": [
    "path = './mnist_mlp_net.pth'\n",
    "torch.save(net.state_dict(), path)"
   ]
  },
  {
   "cell_type": "markdown",
   "id": "f76ab52d",
   "metadata": {},
   "source": [
    "## Test the network performance\n",
    "We use the testloader object to see, how well the network will recognize the numbers in the test set."
   ]
  },
  {
   "cell_type": "code",
   "execution_count": null,
   "id": "17fb7ae7",
   "metadata": {},
   "outputs": [],
   "source": [
    "dataiter = iter(testloader)\n",
    "images, labels = next(dataiter)\n",
    "imshow(images)"
   ]
  },
  {
   "cell_type": "markdown",
   "id": "68a5aca3",
   "metadata": {},
   "source": [
    "We create a new network object and load the parameters from the trained network"
   ]
  },
  {
   "cell_type": "code",
   "execution_count": null,
   "id": "8bb1b789",
   "metadata": {},
   "outputs": [],
   "source": [
    "net = Net()\n",
    "net.load_state_dict(torch.load(path, weights_only=True))"
   ]
  },
  {
   "cell_type": "markdown",
   "id": "23157e90",
   "metadata": {},
   "source": [
    "By passing the flattened first images as parameter to the `net()`, we compute the classification for each image."
   ]
  },
  {
   "cell_type": "code",
   "execution_count": null,
   "id": "ba2f30fd",
   "metadata": {},
   "outputs": [],
   "source": [
    "output = net(images.flatten(start_dim=1))\n",
    "\n",
    "_, predicted = torch.max(output, 1)\n",
    "\n",
    "print('Predicted: ', ' '.join(f'{classes[predicted[j]]:5s}' for j in range(4)))"
   ]
  },
  {
   "cell_type": "markdown",
   "id": "25cb2673",
   "metadata": {},
   "source": [
    "As this looks very promising, we write a loop to get the data from the testload batchwise and pass them through the network. To compute the accuracy, we check how many images were correctly identified and devide it by the total number of images.\n",
    "\n",
    "To avoid further training and to reduce the computational costs, we deactivate the calculation of gradients with `torch.no_grad()`"
   ]
  },
  {
   "cell_type": "code",
   "execution_count": null,
   "id": "40128b79",
   "metadata": {},
   "outputs": [],
   "source": [
    "correct = 0\n",
    "total   = 0\n",
    "\n",
    "# use no_grad as we do not want further training\n",
    "with torch.no_grad():\n",
    "    for data in testloader:\n",
    "        images, labels = data\n",
    "        images = images.flatten(start_dim=1)\n",
    "        outputs = net(images)\n",
    "\n",
    "        _, predicted = torch.max(outputs, 1)\n",
    "        total += labels.size(0)\n",
    "        correct += (predicted == labels).sum().item()\n",
    "\n",
    "\n",
    "print(f'Accuracy of the network on the test set: {100*correct // total}%')"
   ]
  },
  {
   "cell_type": "markdown",
   "id": "cfb84b50",
   "metadata": {},
   "source": [
    "## Exercise 1: Implement a multi-layer neural network for the FashionMNIST dataset\n",
    "\n",
    "Use the previous code as guidance for this task. The FashionMNIST is a little more complex dataset than the classic MNIST but only uses 10 classes of simple images of clothing items. Load them as before with `trainset = torchvision.datasets.FashionMNIST(root='../Dataset/', train=True, download=True, transform=transform)`; test set accordingly.\n",
    "\n",
    "Experiment with layer sizes, number of epochs, number of layers and batch size."
   ]
  },
  {
   "cell_type": "code",
   "execution_count": null,
   "id": "45023c59",
   "metadata": {},
   "outputs": [],
   "source": [
    "# import torch and set device"
   ]
  },
  {
   "cell_type": "code",
   "execution_count": null,
   "id": "774bf3b1",
   "metadata": {},
   "outputs": [],
   "source": [
    "# load and plot data"
   ]
  },
  {
   "cell_type": "code",
   "execution_count": null,
   "id": "c7d540b0",
   "metadata": {},
   "outputs": [],
   "source": [
    "# define neural network layer and feedforward pass"
   ]
  },
  {
   "cell_type": "code",
   "execution_count": null,
   "id": "0fa8dad9",
   "metadata": {},
   "outputs": [],
   "source": [
    "# create network and define loss function and optimizer"
   ]
  },
  {
   "cell_type": "code",
   "execution_count": null,
   "id": "a8b72e9e",
   "metadata": {},
   "outputs": [],
   "source": [
    "# train the network and save the result"
   ]
  },
  {
   "cell_type": "code",
   "execution_count": null,
   "id": "6aa79143",
   "metadata": {},
   "outputs": [],
   "source": [
    "# load the saved network"
   ]
  },
  {
   "cell_type": "code",
   "execution_count": null,
   "id": "83a3d6f7",
   "metadata": {},
   "outputs": [],
   "source": [
    "# evaluate accuracy"
   ]
  }
 ],
 "metadata": {
  "kernelspec": {
   "display_name": "pytorch",
   "language": "python",
   "name": "python3"
  },
  "language_info": {
   "codemirror_mode": {
    "name": "ipython",
    "version": 3
   },
   "file_extension": ".py",
   "mimetype": "text/x-python",
   "name": "python",
   "nbconvert_exporter": "python",
   "pygments_lexer": "ipython3",
   "version": "3.9.21"
  }
 },
 "nbformat": 4,
 "nbformat_minor": 5
}
